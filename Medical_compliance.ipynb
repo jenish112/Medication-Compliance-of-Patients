{
 "cells": [
  {
   "cell_type": "markdown",
   "id": "e7cf4cce",
   "metadata": {},
   "source": [
    "# Medication Compliance of Patients"
   ]
  },
  {
   "cell_type": "markdown",
   "id": "9dd8da81",
   "metadata": {},
   "source": [
    "### Introduction"
   ]
  },
  {
   "cell_type": "markdown",
   "id": "ac645456",
   "metadata": {},
   "source": [
    "It is a machine-learning project. In this, we train the model to predict, whether patients follow prescriptions. In this project, data is given about the patient, including patient ID, Age, Gender, is patient diabetes, Alcoholism, Hypertension, Smokes, Tuberculosis, and the number of remainder SMS per day. The targeted variable is Adherence."
   ]
  },
  {
   "cell_type": "markdown",
   "id": "7b5d7ca4",
   "metadata": {},
   "source": [
    "patient_id: Unique ID of each patient. Age: Age of patient (in years). Gender: Gender of patient (F- Female, M- Male). Prescription_period: The number of days, patient have to follow the prescription. Diabetes: Is patient have diabetes or not (0: No, 1: Yes). Alcoholism: Is patient alcoholic (0: No, 1: Yes). HyperTension: Is patient have hypertension (0: No, 1: Yes). Smokes: Is patient have addiction of smoking (0: No, 1: Yes). Tuberculosis: Is patient have TB (0: No, 1: Yes). Sms_Remainder: The number of remainder sms send to patients per day. Adherence: It is targeted variable. We have to find out is patients following prescription or not."
   ]
  },
  {
   "cell_type": "code",
   "execution_count": 1,
   "id": "591384dc",
   "metadata": {},
   "outputs": [],
   "source": [
    "# Import Libraries\n",
    "\n",
    "import pandas as pd\n",
    "import numpy as np\n",
    "import seaborn as sns\n",
    "import matplotlib.pyplot as plt \n",
    "from ydata_profiling import ProfileReport\n",
    "from sklearn.model_selection import train_test_split\n",
    "from sklearn.preprocessing import StandardScaler, OneHotEncoder\n",
    "from sklearn.compose import ColumnTransformer\n",
    "from sklearn.pipeline import Pipeline\n",
    "from sklearn.linear_model import LogisticRegression\n",
    "from sklearn.metrics import classification_report, confusion_matrix, roc_auc_score, roc_curve\n",
    "from sklearn.model_selection import cross_validate\n",
    "from sklearn.svm import SVC\n",
    "from sklearn.neighbors import KNeighborsClassifier\n",
    "from sklearn.tree import DecisionTreeClassifier\n",
    "from sklearn.ensemble import RandomForestClassifier, GradientBoostingClassifier"
   ]
  },
  {
   "cell_type": "code",
   "execution_count": 2,
   "id": "e45e7e42",
   "metadata": {},
   "outputs": [
    {
     "data": {
      "text/html": [
       "<div>\n",
       "<style scoped>\n",
       "    .dataframe tbody tr th:only-of-type {\n",
       "        vertical-align: middle;\n",
       "    }\n",
       "\n",
       "    .dataframe tbody tr th {\n",
       "        vertical-align: top;\n",
       "    }\n",
       "\n",
       "    .dataframe thead th {\n",
       "        text-align: right;\n",
       "    }\n",
       "</style>\n",
       "<table border=\"1\" class=\"dataframe\">\n",
       "  <thead>\n",
       "    <tr style=\"text-align: right;\">\n",
       "      <th></th>\n",
       "      <th>patient_id</th>\n",
       "      <th>Age</th>\n",
       "      <th>Gender</th>\n",
       "      <th>Prescription_period</th>\n",
       "      <th>Diabetes</th>\n",
       "      <th>Alcoholism</th>\n",
       "      <th>HyperTension</th>\n",
       "      <th>Smokes</th>\n",
       "      <th>Tuberculosis</th>\n",
       "      <th>Sms_Reminder</th>\n",
       "      <th>Adherence</th>\n",
       "    </tr>\n",
       "  </thead>\n",
       "  <tbody>\n",
       "    <tr>\n",
       "      <th>0</th>\n",
       "      <td>107339</td>\n",
       "      <td>32</td>\n",
       "      <td>F</td>\n",
       "      <td>15</td>\n",
       "      <td>0</td>\n",
       "      <td>0</td>\n",
       "      <td>0</td>\n",
       "      <td>0</td>\n",
       "      <td>0</td>\n",
       "      <td>0</td>\n",
       "      <td>Yes</td>\n",
       "    </tr>\n",
       "    <tr>\n",
       "      <th>1</th>\n",
       "      <td>157372</td>\n",
       "      <td>58</td>\n",
       "      <td>F</td>\n",
       "      <td>68</td>\n",
       "      <td>0</td>\n",
       "      <td>0</td>\n",
       "      <td>0</td>\n",
       "      <td>0</td>\n",
       "      <td>0</td>\n",
       "      <td>1</td>\n",
       "      <td>No</td>\n",
       "    </tr>\n",
       "    <tr>\n",
       "      <th>2</th>\n",
       "      <td>84080</td>\n",
       "      <td>47</td>\n",
       "      <td>F</td>\n",
       "      <td>41</td>\n",
       "      <td>0</td>\n",
       "      <td>0</td>\n",
       "      <td>0</td>\n",
       "      <td>0</td>\n",
       "      <td>0</td>\n",
       "      <td>1</td>\n",
       "      <td>No</td>\n",
       "    </tr>\n",
       "    <tr>\n",
       "      <th>3</th>\n",
       "      <td>76807</td>\n",
       "      <td>52</td>\n",
       "      <td>F</td>\n",
       "      <td>3</td>\n",
       "      <td>0</td>\n",
       "      <td>0</td>\n",
       "      <td>0</td>\n",
       "      <td>1</td>\n",
       "      <td>0</td>\n",
       "      <td>0</td>\n",
       "      <td>Yes</td>\n",
       "    </tr>\n",
       "    <tr>\n",
       "      <th>4</th>\n",
       "      <td>18730</td>\n",
       "      <td>56</td>\n",
       "      <td>M</td>\n",
       "      <td>1</td>\n",
       "      <td>0</td>\n",
       "      <td>0</td>\n",
       "      <td>1</td>\n",
       "      <td>0</td>\n",
       "      <td>0</td>\n",
       "      <td>0</td>\n",
       "      <td>Yes</td>\n",
       "    </tr>\n",
       "  </tbody>\n",
       "</table>\n",
       "</div>"
      ],
      "text/plain": [
       "   patient_id  Age Gender  Prescription_period  Diabetes  Alcoholism  \\\n",
       "0      107339   32      F                   15         0           0   \n",
       "1      157372   58      F                   68         0           0   \n",
       "2       84080   47      F                   41         0           0   \n",
       "3       76807   52      F                    3         0           0   \n",
       "4       18730   56      M                    1         0           0   \n",
       "\n",
       "   HyperTension  Smokes  Tuberculosis  Sms_Reminder Adherence  \n",
       "0             0       0             0             0       Yes  \n",
       "1             0       0             0             1        No  \n",
       "2             0       0             0             1        No  \n",
       "3             0       1             0             0       Yes  \n",
       "4             1       0             0             0       Yes  "
      ]
     },
     "execution_count": 2,
     "metadata": {},
     "output_type": "execute_result"
    }
   ],
   "source": [
    "# Import data\n",
    "\n",
    "df=pd.read_csv('train.csv')\n",
    "patid = df['patient_id']\n",
    "df.head()"
   ]
  },
  {
   "cell_type": "markdown",
   "id": "9c429650",
   "metadata": {},
   "source": [
    "## Exploratory Data Analysis"
   ]
  },
  {
   "cell_type": "code",
   "execution_count": 3,
   "id": "28d742c4",
   "metadata": {},
   "outputs": [
    {
     "data": {
      "text/html": [
       "<div>\n",
       "<style scoped>\n",
       "    .dataframe tbody tr th:only-of-type {\n",
       "        vertical-align: middle;\n",
       "    }\n",
       "\n",
       "    .dataframe tbody tr th {\n",
       "        vertical-align: top;\n",
       "    }\n",
       "\n",
       "    .dataframe thead th {\n",
       "        text-align: right;\n",
       "    }\n",
       "</style>\n",
       "<table border=\"1\" class=\"dataframe\">\n",
       "  <thead>\n",
       "    <tr style=\"text-align: right;\">\n",
       "      <th></th>\n",
       "      <th>patient_id</th>\n",
       "      <th>Age</th>\n",
       "      <th>Prescription_period</th>\n",
       "      <th>Diabetes</th>\n",
       "      <th>Alcoholism</th>\n",
       "      <th>HyperTension</th>\n",
       "      <th>Smokes</th>\n",
       "      <th>Tuberculosis</th>\n",
       "      <th>Sms_Reminder</th>\n",
       "    </tr>\n",
       "  </thead>\n",
       "  <tbody>\n",
       "    <tr>\n",
       "      <th>count</th>\n",
       "      <td>144169.000000</td>\n",
       "      <td>144169.000000</td>\n",
       "      <td>144169.000000</td>\n",
       "      <td>144169.000000</td>\n",
       "      <td>144169.000000</td>\n",
       "      <td>144169.000000</td>\n",
       "      <td>144169.000000</td>\n",
       "      <td>144169.000000</td>\n",
       "      <td>144169.000000</td>\n",
       "    </tr>\n",
       "    <tr>\n",
       "      <th>mean</th>\n",
       "      <td>90182.699693</td>\n",
       "      <td>37.794117</td>\n",
       "      <td>54.662001</td>\n",
       "      <td>0.078325</td>\n",
       "      <td>0.025123</td>\n",
       "      <td>0.216413</td>\n",
       "      <td>0.052619</td>\n",
       "      <td>0.000333</td>\n",
       "      <td>0.573653</td>\n",
       "    </tr>\n",
       "    <tr>\n",
       "      <th>std</th>\n",
       "      <td>52005.229692</td>\n",
       "      <td>22.844295</td>\n",
       "      <td>35.723263</td>\n",
       "      <td>0.268683</td>\n",
       "      <td>0.156500</td>\n",
       "      <td>0.411800</td>\n",
       "      <td>0.223272</td>\n",
       "      <td>0.018244</td>\n",
       "      <td>0.499696</td>\n",
       "    </tr>\n",
       "    <tr>\n",
       "      <th>min</th>\n",
       "      <td>1.000000</td>\n",
       "      <td>0.000000</td>\n",
       "      <td>1.000000</td>\n",
       "      <td>0.000000</td>\n",
       "      <td>0.000000</td>\n",
       "      <td>0.000000</td>\n",
       "      <td>0.000000</td>\n",
       "      <td>0.000000</td>\n",
       "      <td>0.000000</td>\n",
       "    </tr>\n",
       "    <tr>\n",
       "      <th>25%</th>\n",
       "      <td>45212.000000</td>\n",
       "      <td>19.000000</td>\n",
       "      <td>22.000000</td>\n",
       "      <td>0.000000</td>\n",
       "      <td>0.000000</td>\n",
       "      <td>0.000000</td>\n",
       "      <td>0.000000</td>\n",
       "      <td>0.000000</td>\n",
       "      <td>0.000000</td>\n",
       "    </tr>\n",
       "    <tr>\n",
       "      <th>50%</th>\n",
       "      <td>90199.000000</td>\n",
       "      <td>38.000000</td>\n",
       "      <td>51.000000</td>\n",
       "      <td>0.000000</td>\n",
       "      <td>0.000000</td>\n",
       "      <td>0.000000</td>\n",
       "      <td>0.000000</td>\n",
       "      <td>0.000000</td>\n",
       "      <td>1.000000</td>\n",
       "    </tr>\n",
       "    <tr>\n",
       "      <th>75%</th>\n",
       "      <td>135280.000000</td>\n",
       "      <td>56.000000</td>\n",
       "      <td>86.000000</td>\n",
       "      <td>0.000000</td>\n",
       "      <td>0.000000</td>\n",
       "      <td>0.000000</td>\n",
       "      <td>0.000000</td>\n",
       "      <td>0.000000</td>\n",
       "      <td>1.000000</td>\n",
       "    </tr>\n",
       "    <tr>\n",
       "      <th>max</th>\n",
       "      <td>180212.000000</td>\n",
       "      <td>113.000000</td>\n",
       "      <td>120.000000</td>\n",
       "      <td>1.000000</td>\n",
       "      <td>1.000000</td>\n",
       "      <td>1.000000</td>\n",
       "      <td>1.000000</td>\n",
       "      <td>1.000000</td>\n",
       "      <td>2.000000</td>\n",
       "    </tr>\n",
       "  </tbody>\n",
       "</table>\n",
       "</div>"
      ],
      "text/plain": [
       "          patient_id            Age  Prescription_period       Diabetes  \\\n",
       "count  144169.000000  144169.000000        144169.000000  144169.000000   \n",
       "mean    90182.699693      37.794117            54.662001       0.078325   \n",
       "std     52005.229692      22.844295            35.723263       0.268683   \n",
       "min         1.000000       0.000000             1.000000       0.000000   \n",
       "25%     45212.000000      19.000000            22.000000       0.000000   \n",
       "50%     90199.000000      38.000000            51.000000       0.000000   \n",
       "75%    135280.000000      56.000000            86.000000       0.000000   \n",
       "max    180212.000000     113.000000           120.000000       1.000000   \n",
       "\n",
       "          Alcoholism   HyperTension         Smokes   Tuberculosis  \\\n",
       "count  144169.000000  144169.000000  144169.000000  144169.000000   \n",
       "mean        0.025123       0.216413       0.052619       0.000333   \n",
       "std         0.156500       0.411800       0.223272       0.018244   \n",
       "min         0.000000       0.000000       0.000000       0.000000   \n",
       "25%         0.000000       0.000000       0.000000       0.000000   \n",
       "50%         0.000000       0.000000       0.000000       0.000000   \n",
       "75%         0.000000       0.000000       0.000000       0.000000   \n",
       "max         1.000000       1.000000       1.000000       1.000000   \n",
       "\n",
       "        Sms_Reminder  \n",
       "count  144169.000000  \n",
       "mean        0.573653  \n",
       "std         0.499696  \n",
       "min         0.000000  \n",
       "25%         0.000000  \n",
       "50%         1.000000  \n",
       "75%         1.000000  \n",
       "max         2.000000  "
      ]
     },
     "execution_count": 3,
     "metadata": {},
     "output_type": "execute_result"
    }
   ],
   "source": [
    "# Describe the data\n",
    "\n",
    "df.describe()"
   ]
  },
  {
   "cell_type": "code",
   "execution_count": 4,
   "id": "63160294",
   "metadata": {},
   "outputs": [
    {
     "name": "stdout",
     "output_type": "stream",
     "text": [
      "<class 'pandas.core.frame.DataFrame'>\n",
      "RangeIndex: 144169 entries, 0 to 144168\n",
      "Data columns (total 11 columns):\n",
      " #   Column               Non-Null Count   Dtype \n",
      "---  ------               --------------   ----- \n",
      " 0   patient_id           144169 non-null  int64 \n",
      " 1   Age                  144169 non-null  int64 \n",
      " 2   Gender               144169 non-null  object\n",
      " 3   Prescription_period  144169 non-null  int64 \n",
      " 4   Diabetes             144169 non-null  int64 \n",
      " 5   Alcoholism           144169 non-null  int64 \n",
      " 6   HyperTension         144169 non-null  int64 \n",
      " 7   Smokes               144169 non-null  int64 \n",
      " 8   Tuberculosis         144169 non-null  int64 \n",
      " 9   Sms_Reminder         144169 non-null  int64 \n",
      " 10  Adherence            144169 non-null  object\n",
      "dtypes: int64(9), object(2)\n",
      "memory usage: 12.1+ MB\n"
     ]
    }
   ],
   "source": [
    "# Get information of data\n",
    "\n",
    "df.info()"
   ]
  },
  {
   "cell_type": "markdown",
   "id": "54a7cb7e",
   "metadata": {},
   "source": [
    "#### As seen above, there is no missing values. However, we need to follow basic transformation for object column. So, let's do it!"
   ]
  },
  {
   "cell_type": "markdown",
   "id": "cf724d0c",
   "metadata": {},
   "source": [
    "### Transformation"
   ]
  },
  {
   "cell_type": "code",
   "execution_count": 5,
   "id": "6b7a4644",
   "metadata": {},
   "outputs": [],
   "source": [
    "df['Adherence'].replace(to_replace = ['No','Yes'], value = [0,1], inplace = True)"
   ]
  },
  {
   "cell_type": "code",
   "execution_count": 6,
   "id": "bff1b0fb",
   "metadata": {},
   "outputs": [],
   "source": [
    "df['Gender'].replace(to_replace = ['M','F'], value = [1,0], inplace = True)"
   ]
  },
  {
   "cell_type": "code",
   "execution_count": 7,
   "id": "1a16dd25",
   "metadata": {},
   "outputs": [
    {
     "name": "stdout",
     "output_type": "stream",
     "text": [
      "<class 'pandas.core.frame.DataFrame'>\n",
      "RangeIndex: 144169 entries, 0 to 144168\n",
      "Data columns (total 11 columns):\n",
      " #   Column               Non-Null Count   Dtype\n",
      "---  ------               --------------   -----\n",
      " 0   patient_id           144169 non-null  int64\n",
      " 1   Age                  144169 non-null  int64\n",
      " 2   Gender               144169 non-null  int64\n",
      " 3   Prescription_period  144169 non-null  int64\n",
      " 4   Diabetes             144169 non-null  int64\n",
      " 5   Alcoholism           144169 non-null  int64\n",
      " 6   HyperTension         144169 non-null  int64\n",
      " 7   Smokes               144169 non-null  int64\n",
      " 8   Tuberculosis         144169 non-null  int64\n",
      " 9   Sms_Reminder         144169 non-null  int64\n",
      " 10  Adherence            144169 non-null  int64\n",
      "dtypes: int64(11)\n",
      "memory usage: 12.1 MB\n"
     ]
    }
   ],
   "source": [
    "df.info()"
   ]
  },
  {
   "cell_type": "markdown",
   "id": "12bd5211",
   "metadata": {},
   "source": [
    "#### We successfully got all interger datatype. It's essential to have all interger datatype for training model."
   ]
  },
  {
   "cell_type": "code",
   "execution_count": 8,
   "id": "1e2e91a6",
   "metadata": {},
   "outputs": [],
   "source": [
    "# Drop non-important columns\n",
    "\n",
    "df.drop(['patient_id'], axis = 1, inplace = True)"
   ]
  },
  {
   "cell_type": "code",
   "execution_count": 9,
   "id": "8b951295",
   "metadata": {},
   "outputs": [
    {
     "data": {
      "text/html": [
       "<div>\n",
       "<style scoped>\n",
       "    .dataframe tbody tr th:only-of-type {\n",
       "        vertical-align: middle;\n",
       "    }\n",
       "\n",
       "    .dataframe tbody tr th {\n",
       "        vertical-align: top;\n",
       "    }\n",
       "\n",
       "    .dataframe thead th {\n",
       "        text-align: right;\n",
       "    }\n",
       "</style>\n",
       "<table border=\"1\" class=\"dataframe\">\n",
       "  <thead>\n",
       "    <tr style=\"text-align: right;\">\n",
       "      <th></th>\n",
       "      <th>Age</th>\n",
       "      <th>Gender</th>\n",
       "      <th>Prescription_period</th>\n",
       "      <th>Diabetes</th>\n",
       "      <th>Alcoholism</th>\n",
       "      <th>HyperTension</th>\n",
       "      <th>Smokes</th>\n",
       "      <th>Tuberculosis</th>\n",
       "      <th>Sms_Reminder</th>\n",
       "      <th>Adherence</th>\n",
       "    </tr>\n",
       "  </thead>\n",
       "  <tbody>\n",
       "    <tr>\n",
       "      <th>0</th>\n",
       "      <td>32</td>\n",
       "      <td>0</td>\n",
       "      <td>15</td>\n",
       "      <td>0</td>\n",
       "      <td>0</td>\n",
       "      <td>0</td>\n",
       "      <td>0</td>\n",
       "      <td>0</td>\n",
       "      <td>0</td>\n",
       "      <td>1</td>\n",
       "    </tr>\n",
       "    <tr>\n",
       "      <th>1</th>\n",
       "      <td>58</td>\n",
       "      <td>0</td>\n",
       "      <td>68</td>\n",
       "      <td>0</td>\n",
       "      <td>0</td>\n",
       "      <td>0</td>\n",
       "      <td>0</td>\n",
       "      <td>0</td>\n",
       "      <td>1</td>\n",
       "      <td>0</td>\n",
       "    </tr>\n",
       "  </tbody>\n",
       "</table>\n",
       "</div>"
      ],
      "text/plain": [
       "   Age  Gender  Prescription_period  Diabetes  Alcoholism  HyperTension  \\\n",
       "0   32       0                   15         0           0             0   \n",
       "1   58       0                   68         0           0             0   \n",
       "\n",
       "   Smokes  Tuberculosis  Sms_Reminder  Adherence  \n",
       "0       0             0             0          1  \n",
       "1       0             0             1          0  "
      ]
     },
     "execution_count": 9,
     "metadata": {},
     "output_type": "execute_result"
    }
   ],
   "source": [
    "df.head(2)"
   ]
  },
  {
   "cell_type": "markdown",
   "id": "599d6122",
   "metadata": {},
   "source": [
    "### Let's check individual columns by Visualization"
   ]
  },
  {
   "cell_type": "code",
   "execution_count": 13,
   "id": "bbf1b207",
   "metadata": {},
   "outputs": [
    {
     "data": {
      "text/plain": [
       "Text(0, 0.5, 'Frequency')"
      ]
     },
     "execution_count": 13,
     "metadata": {},
     "output_type": "execute_result"
    },
    {
     "data": {
      "image/png": "[encoded data removed]",
      "text/plain": [
       "<Figure size 600x600 with 1 Axes>"
      ]
     },
     "metadata": {},
     "output_type": "display_data"
    }
   ],
   "source": [
    "plt.figure(figsize=(6, 6))\n",
    "\n",
    "# Histogram for 'Age'\n",
    "sns.histplot(df['Age'], bins=50, kde=True)\n",
    "plt.title('Age Distribution')\n",
    "plt.xlabel('Age')\n",
    "plt.ylabel('Frequency')\n",
    "\n",
    "# Age numbers are well distributed "
   ]
  },
  {
   "cell_type": "code",
   "execution_count": 14,
   "id": "6d4796ab",
   "metadata": {},
   "outputs": [
    {
     "data": {
      "text/plain": [
       "<Axes: xlabel='Adherence', ylabel='count'>"
      ]
     },
     "execution_count": 14,
     "metadata": {},
     "output_type": "execute_result"
    },
    {
     "data": {
      "image/png": "[encoded data removed]",
      "text/plain": [
       "<Figure size 600x600 with 1 Axes>"
      ]
     },
     "metadata": {},
     "output_type": "display_data"
    }
   ],
   "source": [
    "plt.figure(figsize=(6, 6))\n",
    "\n",
    "# Bar graph for 'Adherence'\n",
    "sns.countplot(x='Adherence', data=df)\n",
    "\n",
    "# 0:No, 1:Yes"
   ]
  },
  {
   "cell_type": "code",
   "execution_count": 15,
   "id": "b88bdd4c",
   "metadata": {},
   "outputs": [
    {
     "data": {
      "text/plain": [
       "<Axes: xlabel='Sms_Reminder', ylabel='count'>"
      ]
     },
     "execution_count": 15,
     "metadata": {},
     "output_type": "execute_result"
    },
    {
     "data": {
      "image/png": "[encoded data removed]",
      "text/plain": [
       "<Figure size 600x600 with 1 Axes>"
      ]
     },
     "metadata": {},
     "output_type": "display_data"
    }
   ],
   "source": [
    "plt.figure(figsize=(6, 6))\n",
    "\n",
    "# Bar graph for 'Gender'\n",
    "sns.countplot(x='Sms_Reminder', data=df, hue='Gender')\n",
    "#sns.countplot(x='Sms_Reminder', data=df[df['Sms_Reminder']==2], hue='Adherence')\n",
    "\n",
    "# Looks like females are having more sms_reminder than males.\n",
    "# 0: Female, 1: Male"
   ]
  },
  {
   "cell_type": "code",
   "execution_count": 16,
   "id": "b4637ed0",
   "metadata": {},
   "outputs": [
    {
     "data": {
      "text/plain": [
       "<Axes: xlabel='Prescription_period', ylabel='Count'>"
      ]
     },
     "execution_count": 16,
     "metadata": {},
     "output_type": "execute_result"
    },
    {
     "data": {
      "image/png": "[encoded data removed]",
      "text/plain": [
       "<Figure size 600x600 with 1 Axes>"
      ]
     },
     "metadata": {},
     "output_type": "display_data"
    }
   ],
   "source": [
    "plt.figure(figsize=(6, 6))\n",
    "\n",
    "sns.histplot(x='Prescription_period', data=df, kde=True)\n",
    "\n",
    "# Most of prescription are of lesser days."
   ]
  },
  {
   "cell_type": "code",
   "execution_count": 15,
   "id": "7fda4112",
   "metadata": {
    "scrolled": true
   },
   "outputs": [],
   "source": [
    "# profile = ProfileReport(df)\n",
    "# profile"
   ]
  },
  {
   "cell_type": "code",
   "execution_count": 16,
   "id": "b71e4b31",
   "metadata": {},
   "outputs": [
    {
     "name": "stdout",
     "output_type": "stream",
     "text": [
      "   VIF Factor             features\n",
      "0         3.5                  Age\n",
      "1         1.4               Gender\n",
      "2         2.5  Prescription_period\n",
      "3         1.3             Diabetes\n",
      "4         1.2           Alcoholism\n",
      "5         1.9         HyperTension\n",
      "6         1.3               Smokes\n",
      "7         1.0         Tuberculosis\n",
      "8         1.9         Sms_Reminder\n"
     ]
    }
   ],
   "source": [
    "# Calculating VIF to check for correlation in numeric factors\n",
    "\n",
    "from statsmodels.stats.outliers_influence import variance_inflation_factor\n",
    "df_numeric = df._get_numeric_data()\n",
    "df_numeric.head()\n",
    "df_numeric = df_numeric.drop(['Adherence'], axis=1)\n",
    "vif = pd.DataFrame()\n",
    "vif[\"VIF Factor\"] = [variance_inflation_factor(df_numeric.values, i) for i in range(df_numeric.shape[1])]\n",
    "vif[\"features\"] = df_numeric.columns\n",
    "print(vif.round(1))"
   ]
  },
  {
   "cell_type": "markdown",
   "id": "16694f2a",
   "metadata": {},
   "source": [
    "By looking at the VIF, the features are moderate correlated, generally it's acceptable, since our main goal is to pridict 'Adherence'."
   ]
  },
  {
   "cell_type": "code",
   "execution_count": 17,
   "id": "554220b5",
   "metadata": {},
   "outputs": [],
   "source": [
    "# By calculating the VIF, you have verified that multicollinearity is not a significant issue in your dataset. \n",
    "# This means that the estimates of the regression coefficients will be reliable, and you can proceed with your model\n",
    "# without needing to address multicollinearity concerns. This step ensures the robustness and interpretability of \n",
    "# your regression analysis in predicting patient adherence to prescriptions."
   ]
  },
  {
   "cell_type": "markdown",
   "id": "af93c637",
   "metadata": {},
   "source": [
    "Great! Our data is ready for our model!\n",
    "\n",
    "# Building a Logistic Regression model\n",
    "\n",
    "Let's start by splitting our data into a training set and test set.\n",
    "\n",
    "### Train Test Split"
   ]
  },
  {
   "cell_type": "code",
   "execution_count": 18,
   "id": "0a4ec4f9",
   "metadata": {},
   "outputs": [],
   "source": [
    "X = df.drop('Adherence', axis=1)\n",
    "y = df['Adherence']\n",
    "X_train, X_test, y_train, y_test = train_test_split(X, y, test_size=0.3, random_state=0)"
   ]
  },
  {
   "cell_type": "markdown",
   "id": "0656dc24",
   "metadata": {},
   "source": [
    "### Feature Engineering"
   ]
  },
  {
   "cell_type": "code",
   "execution_count": 19,
   "id": "12363b52",
   "metadata": {},
   "outputs": [],
   "source": [
    "from sklearn.compose import ColumnTransformer, make_column_selector\n",
    "\n",
    "preprocessor = ColumnTransformer(\n",
    "    transformers=[\n",
    "        ('num', StandardScaler(), make_column_selector(dtype_include=np.number)),\n",
    "        ('cat', OneHotEncoder(), make_column_selector(dtype_include=object))\n",
    "    ])\n",
    "\n",
    "# X_train = preprocessor.fit_transform(X_train)\n",
    "# X_test = preprocessor.transform(X_test)"
   ]
  },
  {
   "cell_type": "markdown",
   "id": "76a96cfe",
   "metadata": {},
   "source": [
    "### Model Training and Evaluation"
   ]
  },
  {
   "cell_type": "code",
   "execution_count": 20,
   "id": "fb6b2de4",
   "metadata": {},
   "outputs": [
    {
     "name": "stderr",
     "output_type": "stream",
     "text": [
      "/Users/jenishvekariya/Downloads/anaconda3/lib/python3.11/site-packages/sklearn/linear_model/_logistic.py:460: ConvergenceWarning: lbfgs failed to converge (status=1):\n",
      "STOP: TOTAL NO. of ITERATIONS REACHED LIMIT.\n",
      "\n",
      "Increase the number of iterations (max_iter) or scale the data as shown in:\n",
      "    https://scikit-learn.org/stable/modules/preprocessing.html\n",
      "Please also refer to the documentation for alternative solver options:\n",
      "    https://scikit-learn.org/stable/modules/linear_model.html#logistic-regression\n",
      "  n_iter_i = _check_optimize_result(\n"
     ]
    },
    {
     "data": {
      "text/html": [
       "<style>#sk-container-id-1 {color: black;}#sk-container-id-1 pre{padding: 0;}#sk-container-id-1 div.sk-toggleable {background-color: white;}#sk-container-id-1 label.sk-toggleable__label {cursor: pointer;display: block;width: 100%;margin-bottom: 0;padding: 0.3em;box-sizing: border-box;text-align: center;}#sk-container-id-1 label.sk-toggleable__label-arrow:before {content: \"▸\";float: left;margin-right: 0.25em;color: #696969;}#sk-container-id-1 label.sk-toggleable__label-arrow:hover:before {color: black;}#sk-container-id-1 div.sk-estimator:hover label.sk-toggleable__label-arrow:before {color: black;}#sk-container-id-1 div.sk-toggleable__content {max-height: 0;max-width: 0;overflow: hidden;text-align: left;background-color: #f0f8ff;}#sk-container-id-1 div.sk-toggleable__content pre {margin: 0.2em;color: black;border-radius: 0.25em;background-color: #f0f8ff;}#sk-container-id-1 input.sk-toggleable__control:checked~div.sk-toggleable__content {max-height: 200px;max-width: 100%;overflow: auto;}#sk-container-id-1 input.sk-toggleable__control:checked~label.sk-toggleable__label-arrow:before {content: \"▾\";}#sk-container-id-1 div.sk-estimator input.sk-toggleable__control:checked~label.sk-toggleable__label {background-color: #d4ebff;}#sk-container-id-1 div.sk-label input.sk-toggleable__control:checked~label.sk-toggleable__label {background-color: #d4ebff;}#sk-container-id-1 input.sk-hidden--visually {border: 0;clip: rect(1px 1px 1px 1px);clip: rect(1px, 1px, 1px, 1px);height: 1px;margin: -1px;overflow: hidden;padding: 0;position: absolute;width: 1px;}#sk-container-id-1 div.sk-estimator {font-family: monospace;background-color: #f0f8ff;border: 1px dotted black;border-radius: 0.25em;box-sizing: border-box;margin-bottom: 0.5em;}#sk-container-id-1 div.sk-estimator:hover {background-color: #d4ebff;}#sk-container-id-1 div.sk-parallel-item::after {content: \"\";width: 100%;border-bottom: 1px solid gray;flex-grow: 1;}#sk-container-id-1 div.sk-label:hover label.sk-toggleable__label {background-color: #d4ebff;}#sk-container-id-1 div.sk-serial::before {content: \"\";position: absolute;border-left: 1px solid gray;box-sizing: border-box;top: 0;bottom: 0;left: 50%;z-index: 0;}#sk-container-id-1 div.sk-serial {display: flex;flex-direction: column;align-items: center;background-color: white;padding-right: 0.2em;padding-left: 0.2em;position: relative;}#sk-container-id-1 div.sk-item {position: relative;z-index: 1;}#sk-container-id-1 div.sk-parallel {display: flex;align-items: stretch;justify-content: center;background-color: white;position: relative;}#sk-container-id-1 div.sk-item::before, #sk-container-id-1 div.sk-parallel-item::before {content: \"\";position: absolute;border-left: 1px solid gray;box-sizing: border-box;top: 0;bottom: 0;left: 50%;z-index: -1;}#sk-container-id-1 div.sk-parallel-item {display: flex;flex-direction: column;z-index: 1;position: relative;background-color: white;}#sk-container-id-1 div.sk-parallel-item:first-child::after {align-self: flex-end;width: 50%;}#sk-container-id-1 div.sk-parallel-item:last-child::after {align-self: flex-start;width: 50%;}#sk-container-id-1 div.sk-parallel-item:only-child::after {width: 0;}#sk-container-id-1 div.sk-dashed-wrapped {border: 1px dashed gray;margin: 0 0.4em 0.5em 0.4em;box-sizing: border-box;padding-bottom: 0.4em;background-color: white;}#sk-container-id-1 div.sk-label label {font-family: monospace;font-weight: bold;display: inline-block;line-height: 1.2em;}#sk-container-id-1 div.sk-label-container {text-align: center;}#sk-container-id-1 div.sk-container {/* jupyter's `normalize.less` sets `[hidden] { display: none; }` but bootstrap.min.css set `[hidden] { display: none !important; }` so we also need the `!important` here to be able to override the default hidden behavior on the sphinx rendered scikit-learn.org. See: https://github.com/scikit-learn/scikit-learn/issues/21755 */display: inline-block !important;position: relative;}#sk-container-id-1 div.sk-text-repr-fallback {display: none;}</style><div id=\"sk-container-id-1\" class=\"sk-top-container\"><div class=\"sk-text-repr-fallback\"><pre>LogisticRegression()</pre><b>In a Jupyter environment, please rerun this cell to show the HTML representation or trust the notebook. <br />On GitHub, the HTML representation is unable to render, please try loading this page with nbviewer.org.</b></div><div class=\"sk-container\" hidden><div class=\"sk-item\"><div class=\"sk-estimator sk-toggleable\"><input class=\"sk-toggleable__control sk-hidden--visually\" id=\"sk-estimator-id-1\" type=\"checkbox\" checked><label for=\"sk-estimator-id-1\" class=\"sk-toggleable__label sk-toggleable__label-arrow\">LogisticRegression</label><div class=\"sk-toggleable__content\"><pre>LogisticRegression()</pre></div></div></div></div></div>"
      ],
      "text/plain": [
       "LogisticRegression()"
      ]
     },
     "execution_count": 20,
     "metadata": {},
     "output_type": "execute_result"
    }
   ],
   "source": [
    "logmodel = LogisticRegression()\n",
    "logmodel.fit(X_train, y_train)"
   ]
  },
  {
   "cell_type": "code",
   "execution_count": 21,
   "id": "9c75fdd9",
   "metadata": {},
   "outputs": [],
   "source": [
    "y_pred = logmodel.predict(X_test)\n",
    "y_prob = logmodel.predict_proba(X_test)[:, 1]"
   ]
  },
  {
   "cell_type": "code",
   "execution_count": 22,
   "id": "8b407e93",
   "metadata": {},
   "outputs": [
    {
     "name": "stdout",
     "output_type": "stream",
     "text": [
      "Accuracy: 0.8798409285334443\n",
      "Confusion Matrix:\n",
      "[[27333  2924]\n",
      " [ 2273 10721]]\n",
      "Classification Report:\n",
      "              precision    recall  f1-score   support\n",
      "\n",
      "           0       0.92      0.90      0.91     30257\n",
      "           1       0.79      0.83      0.80     12994\n",
      "\n",
      "    accuracy                           0.88     43251\n",
      "   macro avg       0.85      0.86      0.86     43251\n",
      "weighted avg       0.88      0.88      0.88     43251\n",
      "\n"
     ]
    }
   ],
   "source": [
    "print('Accuracy:', logmodel.score(X_test, y_test))\n",
    "print('Confusion Matrix:')\n",
    "print(confusion_matrix(y_test, y_pred))\n",
    "print('Classification Report:')\n",
    "print(classification_report(y_test, y_pred))"
   ]
  },
  {
   "cell_type": "code",
   "execution_count": 23,
   "id": "48452995",
   "metadata": {},
   "outputs": [
    {
     "data": {
      "image/png": "[encoded data removed]",
      "text/plain": [
       "<Figure size 640x480 with 1 Axes>"
      ]
     },
     "metadata": {},
     "output_type": "display_data"
    }
   ],
   "source": [
    "logit_roc_auc = roc_auc_score(y_test, y_prob)\n",
    "fpr, tpr, thresholds = roc_curve(y_test, y_prob)\n",
    "plt.figure()\n",
    "plt.plot(fpr, tpr, label='Logistic Regression (area = %0.2f)' % logit_roc_auc)\n",
    "plt.plot([0, 1], [0, 1], 'r--')\n",
    "plt.xlim([0.0, 1.0])\n",
    "plt.ylim([0.0, 1.05])\n",
    "plt.xlabel('False Positive Rate')\n",
    "plt.ylabel('True Positive Rate')\n",
    "plt.title('Receiver Operating Characteristic')\n",
    "plt.legend(loc=\"lower right\")\n",
    "plt.show()"
   ]
  },
  {
   "cell_type": "markdown",
   "id": "c3f91b9b",
   "metadata": {},
   "source": [
    "#### Cross-Validation and Model Comparison"
   ]
  },
  {
   "cell_type": "code",
   "execution_count": 24,
   "id": "8712bff8",
   "metadata": {},
   "outputs": [],
   "source": [
    "clfs = [LogisticRegression(), SVC(), KNeighborsClassifier(n_neighbors=3), \n",
    "        DecisionTreeClassifier(), RandomForestClassifier(), GradientBoostingClassifier()]"
   ]
  },
  {
   "cell_type": "code",
   "execution_count": 26,
   "id": "67c6cd95",
   "metadata": {},
   "outputs": [
    {
     "data": {
      "text/plain": [
       "[('normalizer', StandardScaler()), ('clf', LogisticRegression())]"
      ]
     },
     "execution_count": 26,
     "metadata": {},
     "output_type": "execute_result"
    }
   ],
   "source": [
    "pipeline = Pipeline([\n",
    "    ('normalizer', StandardScaler()), #Step1 - normalize data\n",
    "    ('clf', LogisticRegression()) #step2 - classifier\n",
    "])\n",
    "pipeline.steps"
   ]
  },
  {
   "cell_type": "code",
   "execution_count": null,
   "id": "7fd840df",
   "metadata": {},
   "outputs": [],
   "source": []
  },
  {
   "cell_type": "code",
   "execution_count": 28,
   "id": "7b7d4311",
   "metadata": {},
   "outputs": [
    {
     "name": "stdout",
     "output_type": "stream",
     "text": [
      "---------------------------------\n",
      "LogisticRegression()\n",
      "-----------------------------------\n",
      "fit_time  mean  0.0826986312866211\n",
      "fit_time  std  0.00928980606023588\n",
      "score_time  mean  0.0032911777496337892\n",
      "score_time  std  0.0008805700739281126\n",
      "test_score  mean  0.8807843551558727\n",
      "test_score  std  0.001976135922304222\n",
      "---------------------------------\n",
      "SVC()\n",
      "-----------------------------------\n",
      "fit_time  mean  32.60895376205444\n",
      "fit_time  std  0.32892425309656875\n",
      "score_time  mean  11.734831428527832\n",
      "score_time  std  0.053935299708408546\n",
      "test_score  mean  0.8849956891666775\n",
      "test_score  std  0.002122285804288401\n",
      "---------------------------------\n",
      "KNeighborsClassifier(n_neighbors=3)\n",
      "-----------------------------------\n",
      "fit_time  mean  0.022684717178344728\n",
      "fit_time  std  0.0014655674696306019\n",
      "score_time  mean  2.303032112121582\n",
      "score_time  std  0.012327686180216423\n",
      "test_score  mean  0.8664460191231995\n",
      "test_score  std  0.00046193347159031626\n",
      "---------------------------------\n",
      "DecisionTreeClassifier()\n",
      "-----------------------------------\n",
      "fit_time  mean  0.10066580772399902\n",
      "fit_time  std  0.0031715434489958403\n",
      "score_time  mean  0.0037305355072021484\n",
      "score_time  std  0.0001204452340368929\n",
      "test_score  mean  0.8401077716185842\n",
      "test_score  std  0.002190344539031442\n",
      "---------------------------------\n",
      "RandomForestClassifier()\n",
      "-----------------------------------\n",
      "fit_time  mean  3.082271862030029\n",
      "fit_time  std  0.04359138210683087\n",
      "score_time  mean  0.24372262954711915\n",
      "score_time  std  0.0009483195222861393\n",
      "test_score  mean  0.8658118122076381\n",
      "test_score  std  0.0015972314698927319\n",
      "---------------------------------\n",
      "GradientBoostingClassifier()\n",
      "-----------------------------------\n",
      "fit_time  mean  8.456813859939576\n",
      "fit_time  std  12.08200197087126\n",
      "score_time  mean  0.01930546760559082\n",
      "score_time  std  0.000807097847539859\n",
      "test_score  mean  0.8949542964082372\n",
      "test_score  std  0.0011368702070662065\n"
     ]
    }
   ],
   "source": [
    "clfs = []\n",
    "clfs.append(LogisticRegression())\n",
    "clfs.append(SVC())\n",
    "clfs.append(KNeighborsClassifier(n_neighbors=3))\n",
    "clfs.append(DecisionTreeClassifier())\n",
    "clfs.append(RandomForestClassifier())\n",
    "clfs.append(GradientBoostingClassifier())\n",
    "\n",
    "for classifier in clfs:\n",
    "    pipeline.set_params(clf = classifier)\n",
    "    scores = cross_validate(pipeline, X_train, y_train)\n",
    "    print('---------------------------------')\n",
    "    print(str(classifier))\n",
    "    print('-----------------------------------')\n",
    "    for key, values in scores.items():\n",
    "            print(key,' mean ', values.mean())\n",
    "            print(key,' std ', values.std())"
   ]
  },
  {
   "cell_type": "markdown",
   "id": "05e3b77c",
   "metadata": {},
   "source": [
    "Looks like Gradient Boosting Classifier has the highest accuracy. So, we will go with it."
   ]
  },
  {
   "cell_type": "markdown",
   "id": "90d49063",
   "metadata": {},
   "source": [
    "## Final Notes"
   ]
  },
  {
   "cell_type": "markdown",
   "id": "e20408c0",
   "metadata": {},
   "source": [
    "**Highest Accuracy and Scalability:** GradientBoostingClassifier outperformed other models in terms of mean test score. Although SVC also performed well, the significantly longer computation times make GradientBoostingClassifier a more scalable option.\n",
    "\n",
    "**Interpretability:** Logistic Regression, despite slightly lower accuracy, provides more interpretability and might be preferred in scenarios where understanding the model's decision process is crucial.\n",
    "\n",
    "**Deployment:** For practical applications, consider the operational constraints and select a model that balances accuracy with computational efficiency."
   ]
  },
  {
   "cell_type": "markdown",
   "id": "47c8dca6",
   "metadata": {},
   "source": [
    "### Future Work\n",
    "\n",
    "My next step is to deploy this model and create the perfect website that can predict whether patients missed their medications or not."
   ]
  },
  {
   "cell_type": "code",
   "execution_count": null,
   "id": "8c93d0a2",
   "metadata": {},
   "outputs": [],
   "source": []
  }
 ],
 "metadata": {
  "kernelspec": {
   "display_name": "Python 3 (ipykernel)",
   "language": "python",
   "name": "python3"
  },
  "language_info": {
   "codemirror_mode": {
    "name": "ipython",
    "version": 3
   },
   "file_extension": ".py",
   "mimetype": "text/x-python",
   "name": "python",
   "nbconvert_exporter": "python",
   "pygments_lexer": "ipython3",
   "version": "3.11.5"
  }
 },
 "nbformat": 4,
 "nbformat_minor": 5
}
